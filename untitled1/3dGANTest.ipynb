{
 "cells": [
  {
   "cell_type": "code",
   "execution_count": 72,
   "metadata": {
    "collapsed": true,
    "pycharm": {
     "is_executing": false
    }
   },
   "outputs": [],
   "source": [
    "import tensorflow as tf\n",
    "import matplotlib.pyplot as plt\n",
    "import numpy as np\n",
    "from tensorflow.keras import layers\n",
    "from tensorflow.keras import Model\n",
    "import time\n",
    "import StructureManager\n",
    "from os import system, name"
   ]
  },
  {
   "cell_type": "code",
   "execution_count": 73,
   "outputs": [],
   "source": [
    "physical_devices = tf.config.experimental.list_physical_devices('GPU')\n",
    "tf.config.experimental.set_memory_growth(physical_devices[0], True)"
   ],
   "metadata": {
    "collapsed": false,
    "pycharm": {
     "name": "#%%\n",
     "is_executing": false
    }
   }
  },
  {
   "cell_type": "code",
   "execution_count": 74,
   "outputs": [],
   "source": [
    "def generate_heatmap(data, epoch):\n",
    "    fig, ax = plt.subplots(figsize=(10,10))\n",
    "    im = ax.imshow(data)\n",
    "    \n",
    "    # Loop over data dimensions and create text annotations.\n",
    "    for i in range(data.shape[0]):\n",
    "        for j in range(data.shape[1]):\n",
    "            text = ax.text(j, i, data[i, j],\n",
    "                           ha=\"center\", va=\"center\", color=\"w\")\n",
    "    fig.tight_layout()\n",
    "    plt.savefig('image_at_epoch_{:04d}.png'.format(epoch))\n",
    "    plt.close()\n",
    "\n",
    "def build_generator():\n",
    "    \"\"\"\n",
    "    Create a Generator Model with hyperparameters values defined as follows\n",
    "    :return: Generator network\n",
    "     \"\"\"\n",
    "    z_size = 200\n",
    "    gen_filters = [64, 32, 16, 1]\n",
    "    gen_kernel_sizes = [2, 4, 4, 4, 4]\n",
    "    gen_strides = [1, 2, 2, 2]\n",
    "    gen_input_shape = (1, 1, 1, z_size)\n",
    "    gen_activations = ['relu', 'relu', 'relu', 'tanh']\n",
    "    gen_convolutional_blocks = 4\n",
    "    \n",
    "    input_layer = layers.Input(shape=gen_input_shape)\n",
    "    \n",
    "    # First 3D transpose convolution(or 3D deconvolution) block\n",
    "    a = layers.Conv3DTranspose(filters=gen_filters[0], \n",
    "                        kernel_size=gen_kernel_sizes[0],\n",
    "                        strides=gen_strides[0])(input_layer)\n",
    "    a = layers.BatchNormalization()(a, training=True)\n",
    "    a = layers.Activation(activation='relu')(a)\n",
    "    \n",
    "    # Next 4 3D transpose convolution(or 3D deconvolution) blocks\n",
    "    for i in range(gen_convolutional_blocks - 1):\n",
    "        a = layers.Conv3DTranspose(filters=gen_filters[i + 1], \n",
    "                            kernel_size=gen_kernel_sizes[i + 1],\n",
    "                            strides=gen_strides[i + 1], padding='same')(a)\n",
    "        a = layers.BatchNormalization()(a, training=True)\n",
    "        a = layers.Activation(activation=gen_activations[i + 1])(a)\n",
    "    gen_model = Model(inputs=input_layer, outputs=a)\n",
    "    gen_model.summary()\n",
    "    return gen_model"
   ],
   "metadata": {
    "collapsed": false,
    "pycharm": {
     "name": "#%%\n",
     "is_executing": false
    }
   }
  },
  {
   "cell_type": "code",
   "execution_count": 75,
   "outputs": [],
   "source": [
    "def build_discriminator():\n",
    "    \"\"\"\n",
    "    Create a Discriminator Model using hyperparameters values defined as follows\n",
    "    :return: Discriminator network\n",
    "    \"\"\"\n",
    "    dis_input_shape = (16, 16, 16, 1)\n",
    "    dis_filters = [16, 32, 64, 1]\n",
    "    dis_kernel_sizes = [4, 4, 4, 4]\n",
    "    dis_strides = [2, 2, 2, 2]\n",
    "    dis_paddings = ['same', 'same', 'same', 'same', 'valid']\n",
    "    dis_alphas = [0.2, 0.2, 0.2, 0.2, 0.2]\n",
    "    dis_activations = ['leaky_relu', 'leaky_relu', 'leaky_relu', 'sigmoid']\n",
    "    dis_convolutional_blocks = 4\n",
    "\n",
    "    dis_input_layer = layers.Input(shape=dis_input_shape)\n",
    "    \n",
    "    # The first 3D Convolutional block\n",
    "    a = layers.Conv3D(filters=dis_filters[0],\n",
    "               kernel_size=dis_kernel_sizes[0],\n",
    "               strides=dis_strides[0],\n",
    "               padding=dis_paddings[0])(dis_input_layer)\n",
    "    a = layers.BatchNormalization()(a, training=True)\n",
    "    a = layers.LeakyReLU(dis_alphas[0])(a)\n",
    "    \n",
    "    # Next 4 3D Convolutional Blocks\n",
    "    for i in range(dis_convolutional_blocks - 1):\n",
    "        a = layers.Conv3D(filters=dis_filters[i + 1],\n",
    "                   kernel_size=dis_kernel_sizes[i + 1],\n",
    "                   strides=dis_strides[i + 1],\n",
    "                   padding=dis_paddings[i + 1])(a)\n",
    "        a = layers.BatchNormalization()(a, training=True)\n",
    "        if dis_activations[i + 1] == 'leaky_relu':\n",
    "            a = layers.LeakyReLU(dis_alphas[i + 1])(a)\n",
    "        elif dis_activations[i + 1] == 'sigmoid':\n",
    "            a = layers.Activation(activation='sigmoid')(a)\n",
    "    \n",
    "    dis_model = Model(inputs=dis_input_layer, outputs=a)\n",
    "    print(dis_model.summary())\n",
    "    return dis_model"
   ],
   "metadata": {
    "collapsed": false,
    "pycharm": {
     "name": "#%%\n",
     "is_executing": false
    }
   }
  },
  {
   "cell_type": "code",
   "execution_count": 76,
   "outputs": [],
   "source": [
    "def generate_save_structures(model, epoch, test_input):\n",
    "  predictions = model(test_input, training=False)\n",
    "  processed_predictions = np.divide(np.multiply(np.add(predictions, 1), scalar),2)\n",
    "  processed_predictions = processed_predictions.astype(int)\n",
    "  generate_heatmap(np.squeeze(processed_predictions)[0][0], epoch)\n",
    "  for prediction in processed_predictions:\n",
    "      StructureManager.create_nbt_from_3d(np.squeeze(prediction), epoch)\n",
    "      \n",
    "def convert_predictions(data):\n",
    "      processed_predictions = np.around(np.squeeze(np.divide(np.multiply(np.add(data, 1), scalar),2)))\n",
    "      processed_predictions = processed_predictions.astype(int)\n",
    "      return processed_predictions\n",
    "\n",
    "def get_structures(model, test_input):\n",
    "  predictions = model(test_input, training=False)\n",
    "  processed_predictions = convert_predictions(predictions)\n",
    "  return processed_predictions"
   ],
   "metadata": {
    "collapsed": false,
    "pycharm": {
     "name": "#%%\n",
     "is_executing": false
    }
   }
  },
  {
   "cell_type": "code",
   "execution_count": 77,
   "outputs": [],
   "source": [
    "def write_log(name, value, epoch):\n",
    "    tf.summary.scalar(name, value, epoch)\n",
    "    \n",
    "def clear_trash():\n",
    "    import glob\n",
    "    import os\n",
    "    files = glob.glob(\"*.png\")\n",
    "    files.extend(glob.glob(\"*.nbt\"))\n",
    "    files.extend(\"logs/\")\n",
    "    for file in files:\n",
    "        os.remove(file)"
   ],
   "metadata": {
    "collapsed": false,
    "pycharm": {
     "name": "#%%\n",
     "is_executing": false
    }
   }
  },
  {
   "cell_type": "code",
   "execution_count": 78,
   "outputs": [],
   "source": [
    "gen_learning_rate = 0.00001\n",
    "dis_learning_rate = 0.0004\n",
    "beta = 0.5\n",
    "batch_size = 32\n",
    "z_size = 200\n",
    "DIR_PATH = ''\n",
    "generated_structures_dir = 'generated_volumes'\n",
    "log_dir = '.\\\\logs'\n",
    "epochs = 100000\n",
    "seed = np.random.normal(0, 0.33, size=[1, 1, 1, 1, z_size]).astype(np.float32)"
   ],
   "metadata": {
    "collapsed": false,
    "pycharm": {
     "name": "#%%\n",
     "is_executing": false
    }
   }
  },
  {
   "cell_type": "code",
   "execution_count": 79,
   "outputs": [
    {
     "name": "stdout",
     "text": [
      "Model: \"model_21\"\n_________________________________________________________________\nLayer (type)                 Output Shape              Param #   \n=================================================================\ninput_22 (InputLayer)        [(None, 1, 1, 1, 200)]    0         \n_________________________________________________________________\nconv3d_transpose_28 (Conv3DT (None, 2, 2, 2, 64)       102464    \n_________________________________________________________________\nbatch_normalization_56 (Batc (None, 2, 2, 2, 64)       256       \n_________________________________________________________________\nactivation_35 (Activation)   (None, 2, 2, 2, 64)       0         \n_________________________________________________________________\nconv3d_transpose_29 (Conv3DT (None, 4, 4, 4, 32)       131104    \n_________________________________________________________________\nbatch_normalization_57 (Batc (None, 4, 4, 4, 32)       128       \n_________________________________________________________________\nactivation_36 (Activation)   (None, 4, 4, 4, 32)       0         \n_________________________________________________________________\nconv3d_transpose_30 (Conv3DT (None, 8, 8, 8, 16)       32784     \n_________________________________________________________________\nbatch_normalization_58 (Batc (None, 8, 8, 8, 16)       64        \n_________________________________________________________________\nactivation_37 (Activation)   (None, 8, 8, 8, 16)       0         \n_________________________________________________________________\nconv3d_transpose_31 (Conv3DT (None, 16, 16, 16, 1)     1025      \n_________________________________________________________________\nbatch_normalization_59 (Batc (None, 16, 16, 16, 1)     4         \n_________________________________________________________________\nactivation_38 (Activation)   (None, 16, 16, 16, 1)     0         \n=================================================================\nTotal params: 267,829\nTrainable params: 267,603\nNon-trainable params: 226\n_________________________________________________________________\n",
      "Model: \"model_22\"\n_________________________________________________________________\nLayer (type)                 Output Shape              Param #   \n=================================================================\ninput_23 (InputLayer)        [(None, 16, 16, 16, 1)]   0         \n_________________________________________________________________\nconv3d_28 (Conv3D)           (None, 8, 8, 8, 16)       1040      \n_________________________________________________________________\nbatch_normalization_60 (Batc (None, 8, 8, 8, 16)       64        \n_________________________________________________________________\nleaky_re_lu_21 (LeakyReLU)   (None, 8, 8, 8, 16)       0         \n_________________________________________________________________\nconv3d_29 (Conv3D)           (None, 4, 4, 4, 32)       32800     \n_________________________________________________________________\nbatch_normalization_61 (Batc (None, 4, 4, 4, 32)       128       \n_________________________________________________________________\nleaky_re_lu_22 (LeakyReLU)   (None, 4, 4, 4, 32)       0         \n_________________________________________________________________\nconv3d_30 (Conv3D)           (None, 2, 2, 2, 64)       131136    \n_________________________________________________________________\nbatch_normalization_62 (Batc (None, 2, 2, 2, 64)       256       \n_________________________________________________________________\nleaky_re_lu_23 (LeakyReLU)   (None, 2, 2, 2, 64)       0         \n_________________________________________________________________\nconv3d_31 (Conv3D)           (None, 1, 1, 1, 1)        4097      \n_________________________________________________________________\nbatch_normalization_63 (Batc (None, 1, 1, 1, 1)        4         \n_________________________________________________________________\nactivation_39 (Activation)   (None, 1, 1, 1, 1)        0         \n=================================================================\nTotal params: 169,525\nTrainable params: 169,299\nNon-trainable params: 226\n_________________________________________________________________\nNone\n"
     ],
     "output_type": "stream"
    }
   ],
   "source": [
    "# Create instances\n",
    "generator = build_generator()\n",
    "discriminator = build_discriminator()\n",
    "\n",
    "# Specify optimizer \n",
    "gen_optimizer = tf.keras.optimizers.Adam(lr=gen_learning_rate, beta_1=beta)\n",
    "dis_optimizer = tf.keras.optimizers.Adam(lr=dis_learning_rate, beta_1=beta)\n",
    "\n",
    "# Compile networks\n",
    "generator.compile(loss=\"binary_crossentropy\", optimizer=gen_optimizer)\n",
    "discriminator.compile(loss='binary_crossentropy', optimizer=dis_optimizer)"
   ],
   "metadata": {
    "collapsed": false,
    "pycharm": {
     "name": "#%%\n",
     "is_executing": false
    }
   }
  },
  {
   "cell_type": "code",
   "execution_count": 80,
   "outputs": [],
   "source": [
    "discriminator.trainable = False\n",
    "input_layer = layers.Input(shape=(1, 1, 1, z_size))\n",
    "generated_structs = generator(input_layer)\n",
    "validity = discriminator(generated_structs)\n",
    "adversarial_model = Model(inputs=[input_layer], outputs=[validity])\n",
    "adversarial_model.compile(loss=\"binary_crossentropy\", optimizer=gen_optimizer)"
   ],
   "metadata": {
    "collapsed": false,
    "pycharm": {
     "name": "#%%\n",
     "is_executing": false
    }
   }
  },
  {
   "cell_type": "code",
   "execution_count": 81,
   "outputs": [],
   "source": [
    "dir = \"{}\\{}\".format(log_dir, time.time())\n",
    "tensorboard = tf.keras.callbacks.TensorBoard(log_dir=dir)\n",
    "tensorboard.set_model(generator)\n",
    "tensorboard.set_model(discriminator)\n",
    "writer = tf.summary.create_file_writer(dir)\n",
    "writer.set_as_default()\n",
    "labels_real = np.reshape(np.ones((batch_size,)), (-1, 1, 1, 1, 1))\n",
    "labels_fake = np.reshape(np.zeros((batch_size,)), (-1, 1, 1, 1, 1))"
   ],
   "metadata": {
    "collapsed": false,
    "pycharm": {
     "name": "#%%\n",
     "is_executing": false
    }
   }
  },
  {
   "cell_type": "code",
   "execution_count": 82,
   "outputs": [],
   "source": [
    "d = \"..\\\\lamps484\"\n",
    "d2 = \"..\\\\structures16\"\n",
    "dataset_list = StructureManager.load_structure_blocks(d2, (16,16,16))\n",
    "\n",
    "scalar = len(StructureManager.globalPalette)-1\n",
    "processed_inputs = np.subtract(np.multiply(np.divide(dataset_list, scalar),2),1)\n",
    "processed_inputs = np.expand_dims(processed_inputs, axis=4)"
   ],
   "metadata": {
    "collapsed": false,
    "pycharm": {
     "name": "#%%\n",
     "is_executing": false
    }
   }
  },
  {
   "cell_type": "code",
   "execution_count": 83,
   "outputs": [
    {
     "traceback": [
      "\u001b[1;31m---------------------------------------------------------------------------\u001b[0m",
      "\u001b[1;31mKeyboardInterrupt\u001b[0m                         Traceback (most recent call last)",
      "\u001b[1;32m<ipython-input-83-0371689e2584>\u001b[0m in \u001b[0;36m<module>\u001b[1;34m\u001b[0m\n\u001b[0;32m     22\u001b[0m         \u001b[0mdiscriminator\u001b[0m\u001b[1;33m.\u001b[0m\u001b[0mtrainable\u001b[0m \u001b[1;33m=\u001b[0m \u001b[1;32mFalse\u001b[0m\u001b[1;33m\u001b[0m\u001b[1;33m\u001b[0m\u001b[0m\n\u001b[0;32m     23\u001b[0m         \u001b[0mz\u001b[0m \u001b[1;33m=\u001b[0m \u001b[0mnp\u001b[0m\u001b[1;33m.\u001b[0m\u001b[0mrandom\u001b[0m\u001b[1;33m.\u001b[0m\u001b[0mnormal\u001b[0m\u001b[1;33m(\u001b[0m\u001b[1;36m0\u001b[0m\u001b[1;33m,\u001b[0m \u001b[1;36m0.33\u001b[0m\u001b[1;33m,\u001b[0m \u001b[0msize\u001b[0m\u001b[1;33m=\u001b[0m\u001b[1;33m[\u001b[0m\u001b[0mbatch_size\u001b[0m\u001b[1;33m,\u001b[0m \u001b[1;36m1\u001b[0m\u001b[1;33m,\u001b[0m \u001b[1;36m1\u001b[0m\u001b[1;33m,\u001b[0m \u001b[1;36m1\u001b[0m\u001b[1;33m,\u001b[0m \u001b[0mz_size\u001b[0m\u001b[1;33m]\u001b[0m\u001b[1;33m)\u001b[0m\u001b[1;33m.\u001b[0m\u001b[0mastype\u001b[0m\u001b[1;33m(\u001b[0m\u001b[0mnp\u001b[0m\u001b[1;33m.\u001b[0m\u001b[0mfloat32\u001b[0m\u001b[1;33m)\u001b[0m\u001b[1;33m\u001b[0m\u001b[1;33m\u001b[0m\u001b[0m\n\u001b[1;32m---> 24\u001b[1;33m         \u001b[0mg_loss\u001b[0m \u001b[1;33m=\u001b[0m \u001b[0madversarial_model\u001b[0m\u001b[1;33m.\u001b[0m\u001b[0mtrain_on_batch\u001b[0m\u001b[1;33m(\u001b[0m\u001b[0mz\u001b[0m\u001b[1;33m,\u001b[0m \u001b[0mlabels_real\u001b[0m\u001b[1;33m)\u001b[0m\u001b[1;33m\u001b[0m\u001b[1;33m\u001b[0m\u001b[0m\n\u001b[0m\u001b[0;32m     25\u001b[0m \u001b[1;33m\u001b[0m\u001b[0m\n\u001b[0;32m     26\u001b[0m         \u001b[0mgen_losses\u001b[0m\u001b[1;33m.\u001b[0m\u001b[0mappend\u001b[0m\u001b[1;33m(\u001b[0m\u001b[0mg_loss\u001b[0m\u001b[1;33m)\u001b[0m\u001b[1;33m\u001b[0m\u001b[1;33m\u001b[0m\u001b[0m\n",
      "\u001b[1;32mC:\\ProgramData\\Anaconda3\\envs\\tf2\\lib\\site-packages\\tensorflow_core\\python\\keras\\engine\\training.py\u001b[0m in \u001b[0;36mtrain_on_batch\u001b[1;34m(self, x, y, sample_weight, class_weight, reset_metrics)\u001b[0m\n\u001b[0;32m    977\u001b[0m       outputs = training_v2_utils.train_on_batch(\n\u001b[0;32m    978\u001b[0m           \u001b[0mself\u001b[0m\u001b[1;33m,\u001b[0m \u001b[0mx\u001b[0m\u001b[1;33m,\u001b[0m \u001b[0my\u001b[0m\u001b[1;33m=\u001b[0m\u001b[0my\u001b[0m\u001b[1;33m,\u001b[0m \u001b[0msample_weight\u001b[0m\u001b[1;33m=\u001b[0m\u001b[0msample_weight\u001b[0m\u001b[1;33m,\u001b[0m\u001b[1;33m\u001b[0m\u001b[1;33m\u001b[0m\u001b[0m\n\u001b[1;32m--> 979\u001b[1;33m           class_weight=class_weight, reset_metrics=reset_metrics)\n\u001b[0m\u001b[0;32m    980\u001b[0m       outputs = (outputs['total_loss'] + outputs['output_losses'] +\n\u001b[0;32m    981\u001b[0m                  outputs['metrics'])\n",
      "\u001b[1;32mC:\\ProgramData\\Anaconda3\\envs\\tf2\\lib\\site-packages\\tensorflow_core\\python\\keras\\engine\\training_v2_utils.py\u001b[0m in \u001b[0;36mtrain_on_batch\u001b[1;34m(model, x, y, sample_weight, class_weight, reset_metrics)\u001b[0m\n\u001b[0;32m    252\u001b[0m       \u001b[0mx\u001b[0m\u001b[1;33m,\u001b[0m \u001b[0my\u001b[0m\u001b[1;33m,\u001b[0m \u001b[0msample_weight\u001b[0m\u001b[1;33m=\u001b[0m\u001b[0msample_weight\u001b[0m\u001b[1;33m,\u001b[0m \u001b[0mclass_weight\u001b[0m\u001b[1;33m=\u001b[0m\u001b[0mclass_weight\u001b[0m\u001b[1;33m,\u001b[0m\u001b[1;33m\u001b[0m\u001b[1;33m\u001b[0m\u001b[0m\n\u001b[0;32m    253\u001b[0m       extract_tensors_from_dataset=True)\n\u001b[1;32m--> 254\u001b[1;33m   \u001b[0mbatch_size\u001b[0m \u001b[1;33m=\u001b[0m \u001b[0marray_ops\u001b[0m\u001b[1;33m.\u001b[0m\u001b[0mshape\u001b[0m\u001b[1;33m(\u001b[0m\u001b[0mnest\u001b[0m\u001b[1;33m.\u001b[0m\u001b[0mflatten\u001b[0m\u001b[1;33m(\u001b[0m\u001b[0mx\u001b[0m\u001b[1;33m,\u001b[0m \u001b[0mexpand_composites\u001b[0m\u001b[1;33m=\u001b[0m\u001b[1;32mTrue\u001b[0m\u001b[1;33m)\u001b[0m\u001b[1;33m[\u001b[0m\u001b[1;36m0\u001b[0m\u001b[1;33m]\u001b[0m\u001b[1;33m)\u001b[0m\u001b[1;33m[\u001b[0m\u001b[1;36m0\u001b[0m\u001b[1;33m]\u001b[0m\u001b[1;33m\u001b[0m\u001b[1;33m\u001b[0m\u001b[0m\n\u001b[0m\u001b[0;32m    255\u001b[0m   \u001b[1;31m# If `model._distribution_strategy` is True, then we are in a replica context\u001b[0m\u001b[1;33m\u001b[0m\u001b[1;33m\u001b[0m\u001b[1;33m\u001b[0m\u001b[0m\n\u001b[0;32m    256\u001b[0m   \u001b[1;31m# at this point because of the check above.  `train_on_batch` is being run\u001b[0m\u001b[1;33m\u001b[0m\u001b[1;33m\u001b[0m\u001b[1;33m\u001b[0m\u001b[0m\n",
      "\u001b[1;32mC:\\ProgramData\\Anaconda3\\envs\\tf2\\lib\\site-packages\\tensorflow_core\\python\\ops\\array_ops.py\u001b[0m in \u001b[0;36mshape\u001b[1;34m(input, name, out_type)\u001b[0m\n\u001b[0;32m    456\u001b[0m     \u001b[0mA\u001b[0m\u001b[0;31m \u001b[0m\u001b[0;31m`\u001b[0m\u001b[0mTensor\u001b[0m\u001b[0;31m`\u001b[0m \u001b[0mof\u001b[0m \u001b[0mtype\u001b[0m\u001b[0;31m \u001b[0m\u001b[0;31m`\u001b[0m\u001b[0mout_type\u001b[0m\u001b[0;31m`\u001b[0m\u001b[1;33m.\u001b[0m\u001b[1;33m\u001b[0m\u001b[1;33m\u001b[0m\u001b[0m\n\u001b[0;32m    457\u001b[0m   \"\"\"\n\u001b[1;32m--> 458\u001b[1;33m   \u001b[1;32mreturn\u001b[0m \u001b[0mshape_internal\u001b[0m\u001b[1;33m(\u001b[0m\u001b[0minput\u001b[0m\u001b[1;33m,\u001b[0m \u001b[0mname\u001b[0m\u001b[1;33m,\u001b[0m \u001b[0moptimize\u001b[0m\u001b[1;33m=\u001b[0m\u001b[1;32mTrue\u001b[0m\u001b[1;33m,\u001b[0m \u001b[0mout_type\u001b[0m\u001b[1;33m=\u001b[0m\u001b[0mout_type\u001b[0m\u001b[1;33m)\u001b[0m\u001b[1;33m\u001b[0m\u001b[1;33m\u001b[0m\u001b[0m\n\u001b[0m\u001b[0;32m    459\u001b[0m \u001b[1;33m\u001b[0m\u001b[0m\n\u001b[0;32m    460\u001b[0m \u001b[1;33m\u001b[0m\u001b[0m\n",
      "\u001b[1;32mC:\\ProgramData\\Anaconda3\\envs\\tf2\\lib\\site-packages\\tensorflow_core\\python\\ops\\array_ops.py\u001b[0m in \u001b[0;36mshape_internal\u001b[1;34m(input, name, optimize, out_type)\u001b[0m\n\u001b[0;32m    484\u001b[0m         \u001b[1;32mif\u001b[0m \u001b[0moptimize\u001b[0m \u001b[1;32mand\u001b[0m \u001b[0minput_shape\u001b[0m\u001b[1;33m.\u001b[0m\u001b[0mis_fully_defined\u001b[0m\u001b[1;33m(\u001b[0m\u001b[1;33m)\u001b[0m\u001b[1;33m:\u001b[0m\u001b[1;33m\u001b[0m\u001b[1;33m\u001b[0m\u001b[0m\n\u001b[0;32m    485\u001b[0m           \u001b[1;32mreturn\u001b[0m \u001b[0mconstant\u001b[0m\u001b[1;33m(\u001b[0m\u001b[0minput_shape\u001b[0m\u001b[1;33m.\u001b[0m\u001b[0mas_list\u001b[0m\u001b[1;33m(\u001b[0m\u001b[1;33m)\u001b[0m\u001b[1;33m,\u001b[0m \u001b[0mout_type\u001b[0m\u001b[1;33m,\u001b[0m \u001b[0mname\u001b[0m\u001b[1;33m=\u001b[0m\u001b[0mname\u001b[0m\u001b[1;33m)\u001b[0m\u001b[1;33m\u001b[0m\u001b[1;33m\u001b[0m\u001b[0m\n\u001b[1;32m--> 486\u001b[1;33m       \u001b[1;32mreturn\u001b[0m \u001b[0mgen_array_ops\u001b[0m\u001b[1;33m.\u001b[0m\u001b[0mshape\u001b[0m\u001b[1;33m(\u001b[0m\u001b[0minput\u001b[0m\u001b[1;33m,\u001b[0m \u001b[0mname\u001b[0m\u001b[1;33m=\u001b[0m\u001b[0mname\u001b[0m\u001b[1;33m,\u001b[0m \u001b[0mout_type\u001b[0m\u001b[1;33m=\u001b[0m\u001b[0mout_type\u001b[0m\u001b[1;33m)\u001b[0m\u001b[1;33m\u001b[0m\u001b[1;33m\u001b[0m\u001b[0m\n\u001b[0m\u001b[0;32m    487\u001b[0m \u001b[1;33m\u001b[0m\u001b[0m\n\u001b[0;32m    488\u001b[0m \u001b[1;33m\u001b[0m\u001b[0m\n",
      "\u001b[1;32mC:\\ProgramData\\Anaconda3\\envs\\tf2\\lib\\site-packages\\tensorflow_core\\python\\ops\\gen_array_ops.py\u001b[0m in \u001b[0;36mshape\u001b[1;34m(input, out_type, name)\u001b[0m\n\u001b[0;32m   8959\u001b[0m       _result = _pywrap_tensorflow.TFE_Py_FastPathExecute(\n\u001b[0;32m   8960\u001b[0m         \u001b[0m_ctx\u001b[0m\u001b[1;33m.\u001b[0m\u001b[0m_context_handle\u001b[0m\u001b[1;33m,\u001b[0m \u001b[0m_ctx\u001b[0m\u001b[1;33m.\u001b[0m\u001b[0m_thread_local_data\u001b[0m\u001b[1;33m.\u001b[0m\u001b[0mdevice_name\u001b[0m\u001b[1;33m,\u001b[0m \u001b[1;34m\"Shape\"\u001b[0m\u001b[1;33m,\u001b[0m\u001b[1;33m\u001b[0m\u001b[1;33m\u001b[0m\u001b[0m\n\u001b[1;32m-> 8961\u001b[1;33m         name, _ctx._post_execution_callbacks, input, \"out_type\", out_type)\n\u001b[0m\u001b[0;32m   8962\u001b[0m       \u001b[1;32mreturn\u001b[0m \u001b[0m_result\u001b[0m\u001b[1;33m\u001b[0m\u001b[1;33m\u001b[0m\u001b[0m\n\u001b[0;32m   8963\u001b[0m     \u001b[1;32mexcept\u001b[0m \u001b[0m_core\u001b[0m\u001b[1;33m.\u001b[0m\u001b[0m_FallbackException\u001b[0m\u001b[1;33m:\u001b[0m\u001b[1;33m\u001b[0m\u001b[1;33m\u001b[0m\u001b[0m\n",
      "\u001b[1;31mKeyboardInterrupt\u001b[0m: "
     ],
     "ename": "KeyboardInterrupt",
     "evalue": "",
     "output_type": "error"
    }
   ],
   "source": [
    "processed_inputs = np.full((100,16,16,16, 1), 0.5).astype(np.float)\n",
    "lastpred = None\n",
    "counter = 0\n",
    "for epoch in range(epochs):\n",
    "    gen_losses = []\n",
    "    dis_losses = []\n",
    "    number_of_batches = int(processed_inputs.shape[0] / batch_size)\n",
    "    for index in range(number_of_batches):\n",
    "        z_sample = np.random.normal(0, 0.33, size=[batch_size, 1, 1, 1, z_size]).astype(np.float32)\n",
    "        struct_batch = processed_inputs[index * batch_size:(index + 1) * batch_size, :, :, :]\n",
    "        gen_structs = generator.predict_on_batch(z_sample)\n",
    "        # Make the discriminator network trainable\n",
    "        discriminator.trainable = True\n",
    "        if index % 2 == 0:\n",
    "            loss_real = discriminator.train_on_batch(struct_batch, \n",
    "                                                 labels_real)\n",
    "            loss_fake = discriminator.train_on_batch(gen_structs, \n",
    "                                                 labels_fake)        \n",
    "            d_loss = 0.5 * np.add(loss_real, loss_fake)\n",
    "        else:\n",
    "            d_loss = 0\n",
    "        discriminator.trainable = False\n",
    "        z = np.random.normal(0, 0.33, size=[batch_size, 1, 1, 1, z_size]).astype(np.float32)\n",
    "        g_loss = adversarial_model.train_on_batch(z, labels_real)\n",
    "        \n",
    "        gen_losses.append(g_loss)\n",
    "        dis_losses.append(d_loss)\n",
    "\n",
    "    write_log('g_loss', np.mean(gen_losses), counter)\n",
    "    write_log('d_loss', np.mean(dis_losses), counter)\n",
    "    counter+=1\n",
    "    \n",
    "    if epoch % 10 == 0:\n",
    "        predictions = generator.predict(seed, verbose=3)\n",
    "        predictions_processed = convert_predictions(predictions)\n",
    "        generate_heatmap(predictions_processed[0], epoch)\n",
    "        #print(np.sum(np.equal(predictions,lastpred)))\n",
    "        #lastpred = predictions"
   ],
   "metadata": {
    "collapsed": false,
    "pycharm": {
     "name": "#%%\n",
     "is_executing": false
    }
   }
  },
  {
   "cell_type": "code",
   "execution_count": null,
   "outputs": [],
   "source": [
    "for ind, block in enumerate(StructureManager.globalPalette):\n",
    "    print(ind)\n",
    "    print(block['Name'])"
   ],
   "metadata": {
    "collapsed": false,
    "pycharm": {
     "name": "#%%\n",
     "is_executing": false
    }
   }
  },
  {
   "cell_type": "code",
   "execution_count": 72,
   "outputs": [
    {
     "name": "stdout",
     "text": [
      "[[[[[ True]\n    [ True]\n    [ True]\n    ...\n    [ True]\n    [ True]\n    [ True]]\n\n   [[ True]\n    [ True]\n    [ True]\n    ...\n    [ True]\n    [ True]\n    [ True]]\n\n   [[ True]\n    [ True]\n    [ True]\n    ...\n    [ True]\n    [ True]\n    [ True]]\n\n   ...\n\n   [[ True]\n    [ True]\n    [ True]\n    ...\n    [ True]\n    [ True]\n    [ True]]\n\n   [[ True]\n    [ True]\n    [ True]\n    ...\n    [ True]\n    [ True]\n    [ True]]\n\n   [[ True]\n    [ True]\n    [ True]\n    ...\n    [ True]\n    [ True]\n    [ True]]]\n\n\n  [[[ True]\n    [ True]\n    [ True]\n    ...\n    [ True]\n    [ True]\n    [ True]]\n\n   [[ True]\n    [ True]\n    [ True]\n    ...\n    [ True]\n    [ True]\n    [ True]]\n\n   [[ True]\n    [ True]\n    [ True]\n    ...\n    [ True]\n    [ True]\n    [ True]]\n\n   ...\n\n   [[ True]\n    [ True]\n    [ True]\n    ...\n    [ True]\n    [ True]\n    [ True]]\n\n   [[ True]\n    [ True]\n    [ True]\n    ...\n    [ True]\n    [ True]\n    [ True]]\n\n   [[ True]\n    [ True]\n    [ True]\n    ...\n    [ True]\n    [ True]\n    [ True]]]\n\n\n  [[[ True]\n    [ True]\n    [ True]\n    ...\n    [ True]\n    [ True]\n    [ True]]\n\n   [[ True]\n    [ True]\n    [ True]\n    ...\n    [ True]\n    [ True]\n    [ True]]\n\n   [[ True]\n    [ True]\n    [ True]\n    ...\n    [ True]\n    [ True]\n    [ True]]\n\n   ...\n\n   [[ True]\n    [ True]\n    [ True]\n    ...\n    [ True]\n    [ True]\n    [ True]]\n\n   [[ True]\n    [ True]\n    [ True]\n    ...\n    [ True]\n    [ True]\n    [ True]]\n\n   [[ True]\n    [ True]\n    [ True]\n    ...\n    [ True]\n    [ True]\n    [ True]]]\n\n\n  ...\n\n\n  [[[ True]\n    [ True]\n    [ True]\n    ...\n    [ True]\n    [ True]\n    [ True]]\n\n   [[ True]\n    [ True]\n    [ True]\n    ...\n    [ True]\n    [ True]\n    [ True]]\n\n   [[ True]\n    [ True]\n    [ True]\n    ...\n    [ True]\n    [ True]\n    [ True]]\n\n   ...\n\n   [[ True]\n    [ True]\n    [ True]\n    ...\n    [ True]\n    [ True]\n    [ True]]\n\n   [[ True]\n    [ True]\n    [ True]\n    ...\n    [ True]\n    [ True]\n    [ True]]\n\n   [[ True]\n    [ True]\n    [ True]\n    ...\n    [ True]\n    [ True]\n    [ True]]]\n\n\n  [[[ True]\n    [ True]\n    [ True]\n    ...\n    [ True]\n    [ True]\n    [ True]]\n\n   [[ True]\n    [ True]\n    [ True]\n    ...\n    [ True]\n    [ True]\n    [ True]]\n\n   [[ True]\n    [ True]\n    [ True]\n    ...\n    [ True]\n    [ True]\n    [ True]]\n\n   ...\n\n   [[ True]\n    [ True]\n    [ True]\n    ...\n    [ True]\n    [ True]\n    [ True]]\n\n   [[ True]\n    [ True]\n    [ True]\n    ...\n    [ True]\n    [ True]\n    [ True]]\n\n   [[ True]\n    [ True]\n    [ True]\n    ...\n    [ True]\n    [ True]\n    [ True]]]\n\n\n  [[[ True]\n    [ True]\n    [ True]\n    ...\n    [ True]\n    [ True]\n    [ True]]\n\n   [[ True]\n    [ True]\n    [ True]\n    ...\n    [ True]\n    [ True]\n    [ True]]\n\n   [[ True]\n    [ True]\n    [ True]\n    ...\n    [ True]\n    [ True]\n    [ True]]\n\n   ...\n\n   [[ True]\n    [ True]\n    [ True]\n    ...\n    [ True]\n    [ True]\n    [ True]]\n\n   [[ True]\n    [ True]\n    [ True]\n    ...\n    [ True]\n    [ True]\n    [ True]]\n\n   [[ True]\n    [ True]\n    [ True]\n    ...\n    [ True]\n    [ True]\n    [ True]]]]\n\n\n\n [[[[ True]\n    [ True]\n    [ True]\n    ...\n    [ True]\n    [ True]\n    [ True]]\n\n   [[ True]\n    [ True]\n    [ True]\n    ...\n    [ True]\n    [ True]\n    [ True]]\n\n   [[ True]\n    [ True]\n    [ True]\n    ...\n    [ True]\n    [ True]\n    [ True]]\n\n   ...\n\n   [[ True]\n    [ True]\n    [ True]\n    ...\n    [ True]\n    [ True]\n    [ True]]\n\n   [[ True]\n    [ True]\n    [ True]\n    ...\n    [ True]\n    [ True]\n    [ True]]\n\n   [[ True]\n    [ True]\n    [ True]\n    ...\n    [ True]\n    [ True]\n    [ True]]]\n\n\n  [[[ True]\n    [ True]\n    [ True]\n    ...\n    [ True]\n    [ True]\n    [ True]]\n\n   [[ True]\n    [ True]\n    [ True]\n    ...\n    [ True]\n    [ True]\n    [ True]]\n\n   [[ True]\n    [ True]\n    [ True]\n    ...\n    [ True]\n    [ True]\n    [ True]]\n\n   ...\n\n   [[ True]\n    [ True]\n    [ True]\n    ...\n    [ True]\n    [ True]\n    [ True]]\n\n   [[ True]\n    [ True]\n    [ True]\n    ...\n    [ True]\n    [ True]\n    [ True]]\n\n   [[ True]\n    [ True]\n    [ True]\n    ...\n    [ True]\n    [ True]\n    [ True]]]\n\n\n  [[[ True]\n    [ True]\n    [ True]\n    ...\n    [ True]\n    [ True]\n    [ True]]\n\n   [[ True]\n    [ True]\n    [ True]\n    ...\n    [ True]\n    [ True]\n    [ True]]\n\n   [[ True]\n    [ True]\n    [ True]\n    ...\n    [ True]\n    [ True]\n    [ True]]\n\n   ...\n\n   [[ True]\n    [ True]\n    [ True]\n    ...\n    [ True]\n    [ True]\n    [ True]]\n\n   [[ True]\n    [ True]\n    [ True]\n    ...\n    [ True]\n    [ True]\n    [ True]]\n\n   [[ True]\n    [ True]\n    [ True]\n    ...\n    [ True]\n    [ True]\n    [ True]]]\n\n\n  ...\n\n\n  [[[ True]\n    [ True]\n    [ True]\n    ...\n    [ True]\n    [ True]\n    [ True]]\n\n   [[ True]\n    [ True]\n    [ True]\n    ...\n    [ True]\n    [ True]\n    [ True]]\n\n   [[ True]\n    [ True]\n    [ True]\n    ...\n    [ True]\n    [ True]\n    [ True]]\n\n   ...\n\n   [[ True]\n    [ True]\n    [ True]\n    ...\n    [ True]\n    [ True]\n    [ True]]\n\n   [[ True]\n    [ True]\n    [ True]\n    ...\n    [ True]\n    [ True]\n    [ True]]\n\n   [[ True]\n    [ True]\n    [ True]\n    ...\n    [ True]\n    [ True]\n    [ True]]]\n\n\n  [[[ True]\n    [ True]\n    [ True]\n    ...\n    [ True]\n    [ True]\n    [ True]]\n\n   [[ True]\n    [ True]\n    [ True]\n    ...\n    [ True]\n    [ True]\n    [ True]]\n\n   [[ True]\n    [ True]\n    [ True]\n    ...\n    [ True]\n    [ True]\n    [ True]]\n\n   ...\n\n   [[ True]\n    [ True]\n    [ True]\n    ...\n    [ True]\n    [ True]\n    [ True]]\n\n   [[ True]\n    [ True]\n    [ True]\n    ...\n    [ True]\n    [ True]\n    [ True]]\n\n   [[ True]\n    [ True]\n    [ True]\n    ...\n    [ True]\n    [ True]\n    [ True]]]\n\n\n  [[[ True]\n    [ True]\n    [ True]\n    ...\n    [ True]\n    [ True]\n    [ True]]\n\n   [[ True]\n    [ True]\n    [ True]\n    ...\n    [ True]\n    [ True]\n    [ True]]\n\n   [[ True]\n    [ True]\n    [ True]\n    ...\n    [ True]\n    [ True]\n    [ True]]\n\n   ...\n\n   [[ True]\n    [ True]\n    [ True]\n    ...\n    [ True]\n    [ True]\n    [ True]]\n\n   [[ True]\n    [ True]\n    [ True]\n    ...\n    [ True]\n    [ True]\n    [ True]]\n\n   [[ True]\n    [ True]\n    [ True]\n    ...\n    [ True]\n    [ True]\n    [ True]]]]\n\n\n\n [[[[ True]\n    [ True]\n    [ True]\n    ...\n    [ True]\n    [ True]\n    [ True]]\n\n   [[ True]\n    [ True]\n    [ True]\n    ...\n    [ True]\n    [ True]\n    [ True]]\n\n   [[ True]\n    [ True]\n    [ True]\n    ...\n    [ True]\n    [ True]\n    [ True]]\n\n   ...\n\n   [[ True]\n    [ True]\n    [ True]\n    ...\n    [ True]\n    [ True]\n    [ True]]\n\n   [[ True]\n    [ True]\n    [ True]\n    ...\n    [ True]\n    [ True]\n    [ True]]\n\n   [[ True]\n    [ True]\n    [ True]\n    ...\n    [ True]\n    [ True]\n    [ True]]]\n\n\n  [[[ True]\n    [ True]\n    [ True]\n    ...\n    [ True]\n    [ True]\n    [ True]]\n\n   [[ True]\n    [ True]\n    [ True]\n    ...\n    [ True]\n    [ True]\n    [ True]]\n\n   [[ True]\n    [ True]\n    [ True]\n    ...\n    [ True]\n    [ True]\n    [ True]]\n\n   ...\n\n   [[ True]\n    [ True]\n    [ True]\n    ...\n    [ True]\n    [ True]\n    [ True]]\n\n   [[ True]\n    [ True]\n    [ True]\n    ...\n    [ True]\n    [ True]\n    [ True]]\n\n   [[ True]\n    [ True]\n    [ True]\n    ...\n    [ True]\n    [ True]\n    [ True]]]\n\n\n  [[[ True]\n    [ True]\n    [ True]\n    ...\n    [ True]\n    [ True]\n    [ True]]\n\n   [[ True]\n    [ True]\n    [ True]\n    ...\n    [ True]\n    [ True]\n    [ True]]\n\n   [[ True]\n    [ True]\n    [ True]\n    ...\n    [ True]\n    [ True]\n    [ True]]\n\n   ...\n\n   [[ True]\n    [ True]\n    [ True]\n    ...\n    [ True]\n    [ True]\n    [ True]]\n\n   [[ True]\n    [ True]\n    [ True]\n    ...\n    [ True]\n    [ True]\n    [ True]]\n\n   [[ True]\n    [ True]\n    [ True]\n    ...\n    [ True]\n    [ True]\n    [ True]]]\n\n\n  ...\n\n\n  [[[ True]\n    [ True]\n    [ True]\n    ...\n    [ True]\n    [ True]\n    [ True]]\n\n   [[ True]\n    [ True]\n    [ True]\n    ...\n    [ True]\n    [ True]\n    [ True]]\n\n   [[ True]\n    [ True]\n    [ True]\n    ...\n    [ True]\n    [ True]\n    [ True]]\n\n   ...\n\n   [[ True]\n    [ True]\n    [ True]\n    ...\n    [ True]\n    [ True]\n    [ True]]\n\n   [[ True]\n    [ True]\n    [ True]\n    ...\n    [ True]\n    [ True]\n    [ True]]\n\n   [[ True]\n    [ True]\n    [ True]\n    ...\n    [ True]\n    [ True]\n    [ True]]]\n\n\n  [[[ True]\n    [ True]\n    [ True]\n    ...\n    [ True]\n    [ True]\n    [ True]]\n\n   [[ True]\n    [ True]\n    [ True]\n    ...\n    [ True]\n    [ True]\n    [ True]]\n\n   [[ True]\n    [ True]\n    [ True]\n    ...\n    [ True]\n    [ True]\n    [ True]]\n\n   ...\n\n   [[ True]\n    [ True]\n    [ True]\n    ...\n    [ True]\n    [ True]\n    [ True]]\n\n   [[ True]\n    [ True]\n    [ True]\n    ...\n    [ True]\n    [ True]\n    [ True]]\n\n   [[ True]\n    [ True]\n    [ True]\n    ...\n    [ True]\n    [ True]\n    [ True]]]\n\n\n  [[[ True]\n    [ True]\n    [ True]\n    ...\n    [ True]\n    [ True]\n    [ True]]\n\n   [[ True]\n    [ True]\n    [ True]\n    ...\n    [ True]\n    [ True]\n    [ True]]\n\n   [[ True]\n    [ True]\n    [ True]\n    ...\n    [ True]\n    [ True]\n    [ True]]\n\n   ...\n\n   [[ True]\n    [ True]\n    [ True]\n    ...\n    [ True]\n    [ True]\n    [ True]]\n\n   [[ True]\n    [ True]\n    [ True]\n    ...\n    [ True]\n    [ True]\n    [ True]]\n\n   [[ True]\n    [ True]\n    [ True]\n    ...\n    [ True]\n    [ True]\n    [ True]]]]\n\n\n\n ...\n\n\n\n [[[[ True]\n    [ True]\n    [ True]\n    ...\n    [ True]\n    [ True]\n    [ True]]\n\n   [[ True]\n    [ True]\n    [ True]\n    ...\n    [ True]\n    [ True]\n    [ True]]\n\n   [[ True]\n    [ True]\n    [ True]\n    ...\n    [ True]\n    [ True]\n    [ True]]\n\n   ...\n\n   [[ True]\n    [ True]\n    [ True]\n    ...\n    [ True]\n    [ True]\n    [ True]]\n\n   [[ True]\n    [ True]\n    [ True]\n    ...\n    [ True]\n    [ True]\n    [ True]]\n\n   [[ True]\n    [ True]\n    [ True]\n    ...\n    [ True]\n    [ True]\n    [ True]]]\n\n\n  [[[ True]\n    [ True]\n    [ True]\n    ...\n    [ True]\n    [ True]\n    [ True]]\n\n   [[ True]\n    [ True]\n    [ True]\n    ...\n    [ True]\n    [ True]\n    [ True]]\n\n   [[ True]\n    [ True]\n    [ True]\n    ...\n    [ True]\n    [ True]\n    [ True]]\n\n   ...\n\n   [[ True]\n    [ True]\n    [ True]\n    ...\n    [ True]\n    [ True]\n    [ True]]\n\n   [[ True]\n    [ True]\n    [ True]\n    ...\n    [ True]\n    [ True]\n    [ True]]\n\n   [[ True]\n    [ True]\n    [ True]\n    ...\n    [ True]\n    [ True]\n    [ True]]]\n\n\n  [[[ True]\n    [ True]\n    [ True]\n    ...\n    [ True]\n    [ True]\n    [ True]]\n\n   [[ True]\n    [ True]\n    [ True]\n    ...\n    [ True]\n    [ True]\n    [ True]]\n\n   [[ True]\n    [ True]\n    [ True]\n    ...\n    [ True]\n    [ True]\n    [ True]]\n\n   ...\n\n   [[ True]\n    [ True]\n    [ True]\n    ...\n    [ True]\n    [ True]\n    [ True]]\n\n   [[ True]\n    [ True]\n    [ True]\n    ...\n    [ True]\n    [ True]\n    [ True]]\n\n   [[ True]\n    [ True]\n    [ True]\n    ...\n    [ True]\n    [ True]\n    [ True]]]\n\n\n  ...\n\n\n  [[[ True]\n    [ True]\n    [ True]\n    ...\n    [ True]\n    [ True]\n    [ True]]\n\n   [[ True]\n    [ True]\n    [ True]\n    ...\n    [ True]\n    [ True]\n    [ True]]\n\n   [[ True]\n    [ True]\n    [ True]\n    ...\n    [ True]\n    [ True]\n    [ True]]\n\n   ...\n\n   [[ True]\n    [ True]\n    [ True]\n    ...\n    [ True]\n    [ True]\n    [ True]]\n\n   [[ True]\n    [ True]\n    [ True]\n    ...\n    [ True]\n    [ True]\n    [ True]]\n\n   [[ True]\n    [ True]\n    [ True]\n    ...\n    [ True]\n    [ True]\n    [ True]]]\n\n\n  [[[ True]\n    [ True]\n    [ True]\n    ...\n    [ True]\n    [ True]\n    [ True]]\n\n   [[ True]\n    [ True]\n    [ True]\n    ...\n    [ True]\n    [ True]\n    [ True]]\n\n   [[ True]\n    [ True]\n    [ True]\n    ...\n    [ True]\n    [ True]\n    [ True]]\n\n   ...\n\n   [[ True]\n    [ True]\n    [ True]\n    ...\n    [ True]\n    [ True]\n    [ True]]\n\n   [[ True]\n    [ True]\n    [ True]\n    ...\n    [ True]\n    [ True]\n    [ True]]\n\n   [[ True]\n    [ True]\n    [ True]\n    ...\n    [ True]\n    [ True]\n    [ True]]]\n\n\n  [[[ True]\n    [ True]\n    [ True]\n    ...\n    [ True]\n    [ True]\n    [ True]]\n\n   [[ True]\n    [ True]\n    [ True]\n    ...\n    [ True]\n    [ True]\n    [ True]]\n\n   [[ True]\n    [ True]\n    [ True]\n    ...\n    [ True]\n    [ True]\n    [ True]]\n\n   ...\n\n   [[ True]\n    [ True]\n    [ True]\n    ...\n    [ True]\n    [ True]\n    [ True]]\n\n   [[ True]\n    [ True]\n    [ True]\n    ...\n    [ True]\n    [ True]\n    [ True]]\n\n   [[ True]\n    [ True]\n    [ True]\n    ...\n    [ True]\n    [ True]\n    [ True]]]]\n\n\n\n [[[[ True]\n    [ True]\n    [ True]\n    ...\n    [ True]\n    [ True]\n    [ True]]\n\n   [[ True]\n    [ True]\n    [ True]\n    ...\n    [ True]\n    [ True]\n    [ True]]\n\n   [[ True]\n    [ True]\n    [ True]\n    ...\n    [ True]\n    [ True]\n    [ True]]\n\n   ...\n\n   [[ True]\n    [ True]\n    [ True]\n    ...\n    [ True]\n    [ True]\n    [ True]]\n\n   [[ True]\n    [ True]\n    [ True]\n    ...\n    [ True]\n    [ True]\n    [ True]]\n\n   [[ True]\n    [ True]\n    [ True]\n    ...\n    [ True]\n    [ True]\n    [ True]]]\n\n\n  [[[ True]\n    [ True]\n    [ True]\n    ...\n    [ True]\n    [ True]\n    [ True]]\n\n   [[ True]\n    [ True]\n    [ True]\n    ...\n    [ True]\n    [ True]\n    [ True]]\n\n   [[ True]\n    [ True]\n    [ True]\n    ...\n    [ True]\n    [ True]\n    [ True]]\n\n   ...\n\n   [[ True]\n    [ True]\n    [ True]\n    ...\n    [ True]\n    [ True]\n    [ True]]\n\n   [[ True]\n    [ True]\n    [ True]\n    ...\n    [ True]\n    [ True]\n    [ True]]\n\n   [[ True]\n    [ True]\n    [ True]\n    ...\n    [ True]\n    [ True]\n    [ True]]]\n\n\n  [[[ True]\n    [ True]\n    [ True]\n    ...\n    [ True]\n    [ True]\n    [ True]]\n\n   [[ True]\n    [ True]\n    [ True]\n    ...\n    [ True]\n    [ True]\n    [ True]]\n\n   [[ True]\n    [ True]\n    [ True]\n    ...\n    [ True]\n    [ True]\n    [ True]]\n\n   ...\n\n   [[ True]\n    [ True]\n    [ True]\n    ...\n    [ True]\n    [ True]\n    [ True]]\n\n   [[ True]\n    [ True]\n    [ True]\n    ...\n    [ True]\n    [ True]\n    [ True]]\n\n   [[ True]\n    [ True]\n    [ True]\n    ...\n    [ True]\n    [ True]\n    [ True]]]\n\n\n  ...\n\n\n  [[[ True]\n    [ True]\n    [ True]\n    ...\n    [ True]\n    [ True]\n    [ True]]\n\n   [[ True]\n    [ True]\n    [ True]\n    ...\n    [ True]\n    [ True]\n    [ True]]\n\n   [[ True]\n    [ True]\n    [ True]\n    ...\n    [ True]\n    [ True]\n    [ True]]\n\n   ...\n\n   [[ True]\n    [ True]\n    [ True]\n    ...\n    [ True]\n    [ True]\n    [ True]]\n\n   [[ True]\n    [ True]\n    [ True]\n    ...\n    [ True]\n    [ True]\n    [ True]]\n\n   [[ True]\n    [ True]\n    [ True]\n    ...\n    [ True]\n    [ True]\n    [ True]]]\n\n\n  [[[ True]\n    [ True]\n    [ True]\n    ...\n    [ True]\n    [ True]\n    [ True]]\n\n   [[ True]\n    [ True]\n    [ True]\n    ...\n    [ True]\n    [ True]\n    [ True]]\n\n   [[ True]\n    [ True]\n    [ True]\n    ...\n    [ True]\n    [ True]\n    [ True]]\n\n   ...\n\n   [[ True]\n    [ True]\n    [ True]\n    ...\n    [ True]\n    [ True]\n    [ True]]\n\n   [[ True]\n    [ True]\n    [ True]\n    ...\n    [ True]\n    [ True]\n    [ True]]\n\n   [[ True]\n    [ True]\n    [ True]\n    ...\n    [ True]\n    [ True]\n    [ True]]]\n\n\n  [[[ True]\n    [ True]\n    [ True]\n    ...\n    [ True]\n    [ True]\n    [ True]]\n\n   [[ True]\n    [ True]\n    [ True]\n    ...\n    [ True]\n    [ True]\n    [ True]]\n\n   [[ True]\n    [ True]\n    [ True]\n    ...\n    [ True]\n    [ True]\n    [ True]]\n\n   ...\n\n   [[ True]\n    [ True]\n    [ True]\n    ...\n    [ True]\n    [ True]\n    [ True]]\n\n   [[ True]\n    [ True]\n    [ True]\n    ...\n    [ True]\n    [ True]\n    [ True]]\n\n   [[ True]\n    [ True]\n    [ True]\n    ...\n    [ True]\n    [ True]\n    [ True]]]]\n\n\n\n [[[[ True]\n    [ True]\n    [ True]\n    ...\n    [ True]\n    [ True]\n    [ True]]\n\n   [[ True]\n    [ True]\n    [ True]\n    ...\n    [ True]\n    [ True]\n    [ True]]\n\n   [[ True]\n    [ True]\n    [ True]\n    ...\n    [ True]\n    [ True]\n    [ True]]\n\n   ...\n\n   [[ True]\n    [ True]\n    [ True]\n    ...\n    [ True]\n    [ True]\n    [ True]]\n\n   [[ True]\n    [ True]\n    [ True]\n    ...\n    [ True]\n    [ True]\n    [ True]]\n\n   [[ True]\n    [ True]\n    [ True]\n    ...\n    [ True]\n    [ True]\n    [ True]]]\n\n\n  [[[ True]\n    [ True]\n    [ True]\n    ...\n    [ True]\n    [ True]\n    [ True]]\n\n   [[ True]\n    [ True]\n    [ True]\n    ...\n    [ True]\n    [ True]\n    [ True]]\n\n   [[ True]\n    [ True]\n    [ True]\n    ...\n    [ True]\n    [ True]\n    [ True]]\n\n   ...\n\n   [[ True]\n    [ True]\n    [ True]\n    ...\n    [ True]\n    [ True]\n    [ True]]\n\n   [[ True]\n    [ True]\n    [ True]\n    ...\n    [ True]\n    [ True]\n    [ True]]\n\n   [[ True]\n    [ True]\n    [ True]\n    ...\n    [ True]\n    [ True]\n    [ True]]]\n\n\n  [[[ True]\n    [ True]\n    [ True]\n    ...\n    [ True]\n    [ True]\n    [ True]]\n\n   [[ True]\n    [ True]\n    [ True]\n    ...\n    [ True]\n    [ True]\n    [ True]]\n\n   [[ True]\n    [ True]\n    [ True]\n    ...\n    [ True]\n    [ True]\n    [ True]]\n\n   ...\n\n   [[ True]\n    [ True]\n    [ True]\n    ...\n    [ True]\n    [ True]\n    [ True]]\n\n   [[ True]\n    [ True]\n    [ True]\n    ...\n    [ True]\n    [ True]\n    [ True]]\n\n   [[ True]\n    [ True]\n    [ True]\n    ...\n    [ True]\n    [ True]\n    [ True]]]\n\n\n  ...\n\n\n  [[[ True]\n    [ True]\n    [ True]\n    ...\n    [ True]\n    [ True]\n    [ True]]\n\n   [[ True]\n    [ True]\n    [ True]\n    ...\n    [ True]\n    [ True]\n    [ True]]\n\n   [[ True]\n    [ True]\n    [ True]\n    ...\n    [ True]\n    [ True]\n    [ True]]\n\n   ...\n\n   [[ True]\n    [ True]\n    [ True]\n    ...\n    [ True]\n    [ True]\n    [ True]]\n\n   [[ True]\n    [ True]\n    [ True]\n    ...\n    [ True]\n    [ True]\n    [ True]]\n\n   [[ True]\n    [ True]\n    [ True]\n    ...\n    [ True]\n    [ True]\n    [ True]]]\n\n\n  [[[ True]\n    [ True]\n    [ True]\n    ...\n    [ True]\n    [ True]\n    [ True]]\n\n   [[ True]\n    [ True]\n    [ True]\n    ...\n    [ True]\n    [ True]\n    [ True]]\n\n   [[ True]\n    [ True]\n    [ True]\n    ...\n    [ True]\n    [ True]\n    [ True]]\n\n   ...\n\n   [[ True]\n    [ True]\n    [ True]\n    ...\n    [ True]\n    [ True]\n    [ True]]\n\n   [[ True]\n    [ True]\n    [ True]\n    ...\n    [ True]\n    [ True]\n    [ True]]\n\n   [[ True]\n    [ True]\n    [ True]\n    ...\n    [ True]\n    [ True]\n    [ True]]]\n\n\n  [[[ True]\n    [ True]\n    [ True]\n    ...\n    [ True]\n    [ True]\n    [ True]]\n\n   [[ True]\n    [ True]\n    [ True]\n    ...\n    [ True]\n    [ True]\n    [ True]]\n\n   [[ True]\n    [ True]\n    [ True]\n    ...\n    [ True]\n    [ True]\n    [ True]]\n\n   ...\n\n   [[ True]\n    [ True]\n    [ True]\n    ...\n    [ True]\n    [ True]\n    [ True]]\n\n   [[ True]\n    [ True]\n    [ True]\n    ...\n    [ True]\n    [ True]\n    [ True]]\n\n   [[ True]\n    [ True]\n    [ True]\n    ...\n    [ True]\n    [ True]\n    [ True]]]]]\n"
     ],
     "output_type": "stream"
    }
   ],
   "source": [
    "predictions = generator.predict(seed)\n",
    "print(np.equal(lastpred, predictions))\n"
   ],
   "metadata": {
    "collapsed": false,
    "pycharm": {
     "name": "#%%\n",
     "is_executing": false
    }
   }
  },
  {
   "cell_type": "code",
   "execution_count": 84,
   "outputs": [
    {
     "traceback": [
      "\u001b[1;31m---------------------------------------------------------------------------\u001b[0m",
      "\u001b[1;31mFileNotFoundError\u001b[0m                         Traceback (most recent call last)",
      "\u001b[1;32m<ipython-input-84-f0bee6ea9125>\u001b[0m in \u001b[0;36m<module>\u001b[1;34m\u001b[0m\n\u001b[1;32m----> 1\u001b[1;33m \u001b[0mclear_trash\u001b[0m\u001b[1;33m(\u001b[0m\u001b[1;33m)\u001b[0m\u001b[1;33m\u001b[0m\u001b[1;33m\u001b[0m\u001b[0m\n\u001b[0m",
      "\u001b[1;32m<ipython-input-77-bac874bc700f>\u001b[0m in \u001b[0;36mclear_trash\u001b[1;34m()\u001b[0m\n\u001b[0;32m      9\u001b[0m     \u001b[0mfiles\u001b[0m\u001b[1;33m.\u001b[0m\u001b[0mextend\u001b[0m\u001b[1;33m(\u001b[0m\u001b[1;34m\"logs/\"\u001b[0m\u001b[1;33m)\u001b[0m\u001b[1;33m\u001b[0m\u001b[1;33m\u001b[0m\u001b[0m\n\u001b[0;32m     10\u001b[0m     \u001b[1;32mfor\u001b[0m \u001b[0mfile\u001b[0m \u001b[1;32min\u001b[0m \u001b[0mfiles\u001b[0m\u001b[1;33m:\u001b[0m\u001b[1;33m\u001b[0m\u001b[1;33m\u001b[0m\u001b[0m\n\u001b[1;32m---> 11\u001b[1;33m         \u001b[0mos\u001b[0m\u001b[1;33m.\u001b[0m\u001b[0mremove\u001b[0m\u001b[1;33m(\u001b[0m\u001b[0mfile\u001b[0m\u001b[1;33m)\u001b[0m\u001b[1;33m\u001b[0m\u001b[1;33m\u001b[0m\u001b[0m\n\u001b[0m\u001b[0;32m     12\u001b[0m \u001b[1;33m\u001b[0m\u001b[0m\n",
      "\u001b[1;31mFileNotFoundError\u001b[0m: [WinError 2] The system cannot find the file specified: 'l'"
     ],
     "ename": "FileNotFoundError",
     "evalue": "[WinError 2] The system cannot find the file specified: 'l'",
     "output_type": "error"
    }
   ],
   "source": [
    "clear_trash()"
   ],
   "metadata": {
    "collapsed": false,
    "pycharm": {
     "name": "#%%\n",
     "is_executing": false
    }
   }
  },
  {
   "cell_type": "code",
   "execution_count": null,
   "outputs": [],
   "source": [
    "\n"
   ],
   "metadata": {
    "collapsed": false,
    "pycharm": {
     "name": "#%%\n"
    }
   }
  }
 ],
 "metadata": {
  "language_info": {
   "codemirror_mode": {
    "name": "ipython",
    "version": 2
   },
   "file_extension": ".py",
   "mimetype": "text/x-python",
   "name": "python",
   "nbconvert_exporter": "python",
   "pygments_lexer": "ipython2",
   "version": "2.7.6"
  },
  "kernelspec": {
   "name": "python3",
   "language": "python",
   "display_name": "Python 3"
  },
  "pycharm": {
   "stem_cell": {
    "cell_type": "raw",
    "source": [],
    "metadata": {
     "collapsed": false
    }
   }
  }
 },
 "nbformat": 4,
 "nbformat_minor": 0
}